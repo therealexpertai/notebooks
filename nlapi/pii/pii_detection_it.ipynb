{
 "cells": [
  {
   "cell_type": "markdown",
   "metadata": {},
   "source": [
    " <img style=\"float: right;\" src=\"https://docs.expert.ai/logo.png\" width=\"150px\">\n",
    " \n",
    "# Detect Personally Identifiable Information (PII) in Italian documents"
   ]
  },
  {
   "cell_type": "markdown",
   "metadata": {},
   "source": [
    "In this notbook you will learn how to detect [PII](https://en.wikipedia.org/wiki/Personal_data) in Italian documents using the expert.ai [Natural Language API](https://docs.expert.ai/nlapi).  \n",
    "Detecting PII allows you to determine if a document contains sensitive data and helps creating a new version of the document in which that data is [de-identified](https://en.wikipedia.org/wiki/De-identification)."
   ]
  },
  {
   "cell_type": "markdown",
   "metadata": {},
   "source": [
    "## Requisites\n",
    "\n",
    "This notebook uses [expertai-nlapi](https://pypi.org/project/expertai-nlapi/) to access the Natural Language API and [pandas](https://pypi.org/project/pandas/) to present results, so install both packages:"
   ]
  },
  {
   "cell_type": "code",
   "execution_count": null,
   "metadata": {},
   "outputs": [],
   "source": [
    "!pip install expertai-nlapi"
   ]
  },
  {
   "cell_type": "code",
   "execution_count": null,
   "metadata": {},
   "outputs": [],
   "source": [
    "!pip install pandas"
   ]
  },
  {
   "cell_type": "markdown",
   "metadata": {},
   "source": [
    "To access the API you need to set two environment variables with your expert.ai developer account credentials.  \n",
    "If you don't have an account already, get one for free by signing up on [developer.expert.ai](https://developer.expert.ai).  \n",
    "Replace `YOUR USERNAME` and `YOUR PASSWORD` with your credentials:"
   ]
  },
  {
   "cell_type": "code",
   "execution_count": null,
   "metadata": {},
   "outputs": [],
   "source": [
    "import os\n",
    "os.environ[\"EAI_USERNAME\"] = 'YOUR USERNAME'\n",
    "os.environ[\"EAI_PASSWORD\"] = 'YOUR PASSWORD'"
   ]
  },
  {
   "cell_type": "markdown",
   "metadata": {},
   "source": [
    "## Instantiate the Natural Language API client"
   ]
  },
  {
   "cell_type": "code",
   "execution_count": null,
   "metadata": {},
   "outputs": [],
   "source": [
    "from expertai.nlapi.cloud.client import ExpertAiClient\n",
    "import json, os\n",
    "\n",
    "client = ExpertAiClient()"
   ]
  },
  {
   "cell_type": "markdown",
   "metadata": {},
   "source": [
    "## Load the documents from the `documents_it` folder\n",
    "The `documents_en` folder is located in the folder of the [GitHub repository](https://github.com/therealexpertai/) containing this notebook."
   ]
  },
  {
   "cell_type": "code",
   "execution_count": null,
   "metadata": {},
   "outputs": [],
   "source": [
    "filesTexts=[]\n",
    "\n",
    "for fileName in os.listdir(\"documents_it\"):\n",
    "    with open('documents_it/' + fileName) as file:\n",
    "        filesTexts.append({'text':file.read(), 'fileName':fileName})"
   ]
  },
  {
   "cell_type": "markdown",
   "metadata": {},
   "source": [
    "## Detect PII in all the documents"
   ]
  },
  {
   "cell_type": "code",
   "execution_count": null,
   "metadata": {},
   "outputs": [],
   "source": [
    "filesResults=[]\n",
    "\n",
    "for fileText in filesTexts:\n",
    "    filesResults.append({\n",
    "        'fileName': fileText['fileName'],\n",
    "        'results': client.detection(body={\"document\": {\"text\": fileText['text']}}, params={'language': 'it','detector':'pii'})\n",
    "    })"
   ]
  },
  {
   "cell_type": "markdown",
   "metadata": {},
   "source": [
    "## Present detected information with a pandas DataFrame"
   ]
  },
  {
   "cell_type": "code",
   "execution_count": null,
   "metadata": {
    "scrolled": true
   },
   "outputs": [],
   "source": [
    "import pandas as pandas\n",
    "import json\n",
    "from IPython.core.display import display, HTML\n",
    "\n",
    "pandas.set_option('display.max_rows', None)\n",
    "mapColoredCell = set()\n",
    "\n",
    "def coloredCell(s):\n",
    "    key = '-'.join(s.name[0:3])\n",
    "    if(key not in mapColoredCell):\n",
    "        mapColoredCell.add(key)\n",
    "        return ['border-top: 1px solid !important']\n",
    "    \n",
    "    return['']\n",
    "   \n",
    "dataToShow = []\n",
    "\n",
    "for fileResults in filesResults:\n",
    "    mapInstances = {}\n",
    "    fieldName=\"\"\n",
    "    \n",
    "    for extraction in fileResults['results'].extractions:\n",
    "        \n",
    "        if extraction.template in mapInstances:\n",
    "            mapInstances[extraction.template] += 1\n",
    "        else:\n",
    "            mapInstances[extraction.template] = 1\n",
    "            \n",
    "        dateCount=0;\n",
    "        \n",
    "        for field in extraction.fields:\n",
    "            fieldName = field.name\n",
    "            if field.name == \"dateTime\":\n",
    "                dateCount+=1\n",
    "                fieldName+=\" #\" + str(dateCount)\n",
    "            row = {\n",
    "                \"file\": fileResults['fileName'],\n",
    "                \"template\": extraction.template,\n",
    "                \"instance\": '#' + str(mapInstances[extraction.template]),\n",
    "                'field': fieldName,\n",
    "                'value': field.value\n",
    "            }\n",
    "\n",
    "            dataToShow.append(row)\n",
    "           \n",
    "dataFrame = pandas.DataFrame(dataToShow)\n",
    "dataFrame.set_index(['file', 'template', 'instance', 'field'], inplace=True)\n",
    "leftAlignedDataFrame = dataFrame.style.set_properties(**{'text-align': 'left', 'padding-left': '30px'})  \n",
    "leftAlignedDataFrame.apply(coloredCell,axis=1)\n",
    "display(leftAlignedDataFrame)"
   ]
  },
  {
   "cell_type": "markdown",
   "metadata": {},
   "source": [
    "## Print the JSON-LD object\n",
    "The PII detector output includes a [JSON-LD](https://json-ld.org/) object. It contains exactly the same detected information, but in JSON-LD format and the data types are linked to [schema.org](https://schema.org/) types."
   ]
  },
  {
   "cell_type": "code",
   "execution_count": null,
   "metadata": {},
   "outputs": [],
   "source": [
    "for fileResults in filesResults:\n",
    "    print(\"************************\")\n",
    "    print (fileResults['fileName']+\": \")\n",
    "    print(json.dumps(fileResults['results'].extra_data, indent=2, sort_keys=True))\n",
    "    print(\"************************\")"
   ]
  },
  {
   "cell_type": "markdown",
   "metadata": {},
   "source": [
    "Congratulations, you're done, it's that simple!  \n",
    "Read the [documentation](https://docs.expert.ai/nlapi/latest/guide/detectors/#pii-detector) to know more about the capabilities of the PII detector."
   ]
  }
 ],
 "metadata": {
  "kernelspec": {
   "display_name": "Python 3",
   "language": "python",
   "name": "python3"
  },
  "language_info": {
   "codemirror_mode": {
    "name": "ipython",
    "version": 3
   },
   "file_extension": ".py",
   "mimetype": "text/x-python",
   "name": "python",
   "nbconvert_exporter": "python",
   "pygments_lexer": "ipython3",
   "version": "3.8.1"
  }
 },
 "nbformat": 4,
 "nbformat_minor": 2
}
